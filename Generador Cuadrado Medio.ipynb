{
 "cells": [
  {
   "cell_type": "code",
   "execution_count": 1,
   "id": "0de089c4",
   "metadata": {},
   "outputs": [
    {
     "name": "stdout",
     "output_type": "stream",
     "text": [
      "Éste programa toma un número de cuatro cifras \n",
      "lo eleva al cuadrado, y después toma los dígitos tercero \n",
      "cuarto, quinto, y sexto del nuevo número, para volver a \n",
      "elevarlo al cuadrado, y volver a tomar los cuatro dígitos... \n",
      "tantas veces como la variable del número de iteraciones indique. \n",
      "Un número de cuatro cifras=1234\n",
      "Número de iteraciones=11\n",
      "La lista de números generados= [1234, 2275, 7562, 1838, 7824, 2149, 1820, 1240, 3760, 1376, 9337]\n"
     ]
    },
    {
     "data": {
      "text/plain": [
       "[1234, 2275, 7562, 1838, 7824, 2149, 1820, 1240, 3760, 1376, 9337]"
      ]
     },
     "execution_count": 1,
     "metadata": {},
     "output_type": "execute_result"
    }
   ],
   "source": [
    "def cuadrado_medio():\n",
    "    print(\"Éste programa toma un número de cuatro cifras \")\n",
    "    print(\"lo eleva al cuadrado, y después toma los dígitos tercero \")\n",
    "    print(\"cuarto, quinto, y sexto del nuevo número, para volver a \")\n",
    "    print(\"elevarlo al cuadrado, y volver a tomar los cuatro dígitos... \")\n",
    "    print(\"tantas veces como la variable del número de iteraciones indique. \")\n",
    "    y=input(\"Un número de cuatro cifras=\")\n",
    "    y=int(y)\n",
    "    yy=input(\"Número de iteraciones=\")\n",
    "    yy=int(yy)\n",
    "    lista_de_números=[]\n",
    "    lista_de_números.append(y)\n",
    "    yyy=[]\n",
    "    yyyy=[]\n",
    "    for i in range(yy):\n",
    "        y=y*y\n",
    "        y=str(y)\n",
    "        for j in range(len(y)):\n",
    "            if j>=2 and j<=5:\n",
    "                yyy.append(y[j])\n",
    "            else:\n",
    "                yyyy.append(y[j])\n",
    "        y0=yyy[0]\n",
    "        y1=yyy[1]\n",
    "        y2=yyy[2]\n",
    "        y3=yyy[3]\n",
    "        y0=str(y0)\n",
    "        y1=str(y1)\n",
    "        y2=str(y2)\n",
    "        y3=str(y3)\n",
    "        y=y0+y1+y2+y3\n",
    "        y=int(y)\n",
    "        lista_de_números.append(y)\n",
    "        yyy=[]\n",
    "    hola=[lista_de_números[k] for k in range(yy)]\n",
    "    print(\"La lista de números generados=\",hola)\n",
    "    return hola\n",
    "cuadrado_medio()"
   ]
  },
  {
   "cell_type": "code",
   "execution_count": null,
   "id": "23d11bce",
   "metadata": {},
   "outputs": [],
   "source": []
  }
 ],
 "metadata": {
  "kernelspec": {
   "display_name": "Python 3 (ipykernel)",
   "language": "python",
   "name": "python3"
  },
  "language_info": {
   "codemirror_mode": {
    "name": "ipython",
    "version": 3
   },
   "file_extension": ".py",
   "mimetype": "text/x-python",
   "name": "python",
   "nbconvert_exporter": "python",
   "pygments_lexer": "ipython3",
   "version": "3.10.4"
  }
 },
 "nbformat": 4,
 "nbformat_minor": 5
}
