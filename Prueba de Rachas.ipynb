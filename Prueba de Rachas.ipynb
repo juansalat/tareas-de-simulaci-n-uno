{
 "cells": [
  {
   "cell_type": "code",
   "execution_count": 1,
   "id": "942dfcb4",
   "metadata": {},
   "outputs": [
    {
     "name": "stdout",
     "output_type": "stream",
     "text": [
      "[0, 0, 1, 0, 0, 1, 1, 1, 1, 0, 0, 0, 0, 0, 1, 0, 1, 1, 1, 0, 1, 1, 1, 0, 0, 0, 0, 0, 1, 0, 0, 0, 1, 1, 0, 1, 1, 0, 0, 0, 0, 1, 0, 0, 1, 1, 1, 1, 1, 0, 0, 1, 1, 1, 0, 0, 0, 0, 1, 1, 1, 1, 1, 0, 0, 1, 0, 1, 0, 1, 1, 1, 0, 1, 0, 1, 1, 0, 0, 0, 0, 0, 1, 0, 1, 0, 1, 1]\n",
      "Resultado del test de corridas: Rechazamos la hipótesis nula. No es aleatorio\n"
     ]
    },
    {
     "data": {
      "text/plain": [
       "'Hola.'"
      ]
     },
     "execution_count": 1,
     "metadata": {},
     "output_type": "execute_result"
    }
   ],
   "source": [
    "#Prueba de Rachas. \n",
    "\"\"\"\n",
    "El test de corridas evalúa si una secuencia de números aleatorios exhibe estructuras o patrones significativos.\n",
    "Calcula el número de corridas, que son segmentos consecutivos de la secuencia donde los números son todos iguales.\n",
    "Compara este número con el valor esperado y la varianza teórica bajo la hipótesis de aleatoriedad.\n",
    "Utiliza un valor Z para determinar si se puede rechazar la hipótesis nula de aleatoriedad.\n",
    "\"\"\"\n",
    "def test_corridas(numeros_aleatorios):\n",
    "    corridas = 1\n",
    "    for i in range(1, len(numeros_aleatorios)):\n",
    "        if numeros_aleatorios[i] != numeros_aleatorios[i-1]:\n",
    "            corridas += 1\n",
    "    n = len(numeros_aleatorios)\n",
    "    corridas_esperadas = (2 * n - 1) / 3\n",
    "    varianza_corridas = (16 * n - 29) / 90\n",
    "    Z = (corridas - corridas_esperadas) / (varianza_corridas**0.5)\n",
    "    if Z >= 1.96:\n",
    "        return \"Rechazamos la hipótesis nula. No es aleatorio\"\n",
    "    elif Z <= -1.96:\n",
    "        return \"Rechazamos la hipótesis nula. No es aleatorio\"\n",
    "    else:\n",
    "        return \"Aceptamos la hipótesis nula: Aleatorio\"\n",
    "def test():\n",
    "    hola=\"Hola.\"\n",
    "    import random\n",
    "    numeros_aleatorios=[random.randint(0,1) for i in range(88)]\n",
    "    resultado_test_corridas = test_corridas(numeros_aleatorios)\n",
    "    print(numeros_aleatorios)\n",
    "    print(\"Resultado del test de corridas:\", resultado_test_corridas)\n",
    "    return hola\n",
    "test()\n"
   ]
  },
  {
   "cell_type": "code",
   "execution_count": null,
   "id": "e40801f5",
   "metadata": {},
   "outputs": [],
   "source": []
  }
 ],
 "metadata": {
  "kernelspec": {
   "display_name": "Python 3 (ipykernel)",
   "language": "python",
   "name": "python3"
  },
  "language_info": {
   "codemirror_mode": {
    "name": "ipython",
    "version": 3
   },
   "file_extension": ".py",
   "mimetype": "text/x-python",
   "name": "python",
   "nbconvert_exporter": "python",
   "pygments_lexer": "ipython3",
   "version": "3.10.4"
  }
 },
 "nbformat": 4,
 "nbformat_minor": 5
}
