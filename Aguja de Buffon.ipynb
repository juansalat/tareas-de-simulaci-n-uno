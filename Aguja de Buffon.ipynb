{
 "cells": [
  {
   "cell_type": "code",
   "execution_count": 7,
   "id": "a3218ee1",
   "metadata": {},
   "outputs": [
    {
     "name": "stdout",
     "output_type": "stream",
     "text": [
      "Estimación de π: 3.1417593223853495\n"
     ]
    }
   ],
   "source": [
    "\"\"\"\n",
    "El experimento de la aguja de Buffon es un problema clásico de probabilidad geométrica que se puede usar para\n",
    "estimar el valor de pi. El problema consiste en tirar una aguja de longitud L sobre una superficie con líneas\n",
    "paralelas separadas por una distancia D, con L<=D y calcular la probabilidad de que la aguja cruce una de las\n",
    "líneas. La fórmula para la probabilidad P de que la aguja cruce una de las líneas es: P=2*L/pi*D.\n",
    "\"\"\"\n",
    "import numpy as np\n",
    "def lanzar_aguja(num_lanzamientos, L, D):\n",
    "    cruces = 0\n",
    "    for i in range(num_lanzamientos):\n",
    "        theta = np.random.uniform(0, np.pi) \n",
    "        x = np.random.uniform(0, D/2)  \n",
    "        if x <= (L/2) * np.sin(theta):\n",
    "            cruces += 1\n",
    "    return cruces\n",
    "def estimar_pi(num_lanzamientos, L, D):\n",
    "    cruces = lanzar_aguja(num_lanzamientos, L, D)\n",
    "    probabilidad = cruces / num_lanzamientos\n",
    "    pi_estimado = (2 * L) / (probabilidad * D)\n",
    "    return pi_estimado\n",
    "num_lanzamientos = 1000000 \n",
    "L = 1.0 \n",
    "D = 1.0 \n",
    "pi_estimado = estimar_pi(num_lanzamientos, L, D)\n",
    "print(f\"Estimación de π: {pi_estimado}\")"
   ]
  },
  {
   "cell_type": "code",
   "execution_count": null,
   "id": "5c32a43e",
   "metadata": {},
   "outputs": [],
   "source": []
  },
  {
   "cell_type": "code",
   "execution_count": null,
   "id": "63ebf8cc",
   "metadata": {},
   "outputs": [],
   "source": []
  }
 ],
 "metadata": {
  "kernelspec": {
   "display_name": "Python 3 (ipykernel)",
   "language": "python",
   "name": "python3"
  },
  "language_info": {
   "codemirror_mode": {
    "name": "ipython",
    "version": 3
   },
   "file_extension": ".py",
   "mimetype": "text/x-python",
   "name": "python",
   "nbconvert_exporter": "python",
   "pygments_lexer": "ipython3",
   "version": "3.10.4"
  }
 },
 "nbformat": 4,
 "nbformat_minor": 5
}
