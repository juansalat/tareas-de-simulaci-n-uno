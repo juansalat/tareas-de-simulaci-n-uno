{
 "cells": [
  {
   "cell_type": "code",
   "execution_count": 1,
   "id": "1b7506a6",
   "metadata": {},
   "outputs": [
    {
     "name": "stdout",
     "output_type": "stream",
     "text": [
      "Números Aleatorios= [0.20762569 0.7703285  0.87849568 0.89923927 0.15380749 0.03990383\n",
      " 0.25191779 0.25439431 0.83854824 0.11935149 0.01802245 0.57834518\n",
      " 0.45839775 0.46857332 0.80737714 0.87699745 0.27044642 0.76827548\n",
      " 0.57432586 0.16726891 0.31486999 0.548343   0.90531335 0.21967746\n",
      " 0.88093822 0.95940855 0.2151871  0.69543865 0.59719727 0.22677022\n",
      " 0.3323398  0.09512686 0.94382072 0.27021658 0.12190258 0.52762195\n",
      " 0.10923873 0.14811734 0.8129605  0.11154176 0.91691829 0.72562076\n",
      " 0.60229794 0.99524832 0.78363033 0.199621   0.85274995 0.41170479\n",
      " 0.55861826 0.77952869 0.80300996 0.75204173 0.98320298 0.67701832\n",
      " 0.29125398 0.43341843 0.19787365 0.58126085 0.42771766 0.81479409\n",
      " 0.73173955 0.98980453 0.52680303 0.8626023  0.4101819  0.98133801\n",
      " 0.49228599 0.10346822 0.21926879 0.85974386 0.26453583 0.96638066\n",
      " 0.16623597 0.7566274  0.69000058 0.84882674 0.37306748 0.91155679\n",
      " 0.84784512 0.2216149  0.30342558 0.59278479 0.71765686 0.2840908\n",
      " 0.61911345 0.65583712 0.88731203 0.9117007  0.37390104 0.42731209\n",
      " 0.43405259 0.12526885 0.89963663 0.39659906 0.21845145 0.05815376\n",
      " 0.20459948 0.10111391 0.17325793 0.01782434]\n",
      "Resultado del test de Kolmogorov-Smirnov para una distribución uniforme): Distribución especificada inválida\n",
      "Resultado del test de Kolmogorov-Smirnov para una distribución normal: Rechazar hipótesis nula: No es distribución normal\n"
     ]
    }
   ],
   "source": [
    "#Prueba de Komogorov-Smirnov.\n",
    "\"\"\"\n",
    "El test de Kolmogorov-Smirnov evalúa si una muestra de datos sigue\n",
    "una distribución específica, como la uniforme o la normal. Calcula un\n",
    "estadístico que indica la discrepancia máxima entre la función\n",
    "de distribución empírica de los datos y la función de distribución acumulativa\n",
    "teórica. Utiliza un valor p para determinar si se puede rechazar la hipótesis nula\n",
    "de que los datos provienen de la distribución especificada.\n",
    "\"\"\"\n",
    "import numpy as np\n",
    "from scipy.stats import kstest\n",
    "def test_kolmogorov_smirnov(numeros_aleatorios, distribucion='uniforme'):\n",
    "    if distribucion == 'uniforme':\n",
    "        estadistico, valor_p = kstest(numeros_aleatorios, 'uniforme')\n",
    "        if valor_p < 0.05:\n",
    "            return \"Rechazar hipótesis nula: No es distribución uniforme\"\n",
    "        else:\n",
    "            return \"Aceptar hipótesis nula: Distribución uniforme\"\n",
    "    elif distribucion == 'normal':\n",
    "        estadistico, valor_p = kstest(numeros_aleatorios, 'norm')\n",
    "        if valor_p < 0.05:\n",
    "            return \"Rechazar hipótesis nula: No es distribución normal\"\n",
    "        else:\n",
    "            return \"Aceptar hipótesis nula: Distribución normal\"\n",
    "    else:\n",
    "        return \"Distribución especificada inválida\"\n",
    "numeros_aleatorios = np.random.rand(100)\n",
    "print(\"Números Aleatorios=\", numeros_aleatorios)\n",
    "resultado_ks_uniforme = test_kolmogorov_smirnov(numeros_aleatorios, distribucion='uniform')\n",
    "resultado_ks_normal = test_kolmogorov_smirnov(numeros_aleatorios, distribucion='normal')\n",
    "print(\"Resultado del test de Kolmogorov-Smirnov para una distribución uniforme):\", resultado_ks_uniforme)\n",
    "print(\"Resultado del test de Kolmogorov-Smirnov para una distribución normal:\", resultado_ks_normal)"
   ]
  },
  {
   "cell_type": "code",
   "execution_count": null,
   "id": "613c88fe",
   "metadata": {},
   "outputs": [],
   "source": []
  }
 ],
 "metadata": {
  "kernelspec": {
   "display_name": "Python 3 (ipykernel)",
   "language": "python",
   "name": "python3"
  },
  "language_info": {
   "codemirror_mode": {
    "name": "ipython",
    "version": 3
   },
   "file_extension": ".py",
   "mimetype": "text/x-python",
   "name": "python",
   "nbconvert_exporter": "python",
   "pygments_lexer": "ipython3",
   "version": "3.10.4"
  }
 },
 "nbformat": 4,
 "nbformat_minor": 5
}
