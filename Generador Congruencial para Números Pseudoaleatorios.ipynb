{
 "cells": [
  {
   "cell_type": "code",
   "execution_count": 1,
   "id": "b858afe9",
   "metadata": {},
   "outputs": [
    {
     "name": "stdout",
     "output_type": "stream",
     "text": [
      "Ejemplo: \n",
      "a=13,b=9,m=128,x0=7\n",
      "Ingrese valores para el generador congruencial. \n",
      "a=13\n",
      "b=9\n",
      "m=128\n",
      "x0=7\n",
      "7  100  29  2  35  80  25  78  127  124  85  90  27  104  81  38  119  20  13  50  19  0  9  126  111  44  69  10  11  24  65  86  103  68  125  98  3  48  121  46  95  92  53  58  123  72  49  6  87  116  109  18  115  96  105  94  79  12  37  106  107  120  33  54  71  36  93  66  99  16  89  14  63  60  21  26  91  40  17  102  55  84  77  114  83  64  73  62  47  108  5  74  75  88  1  22  39  4  61  34  67  112  57  110  31  28  117  122  59  8  113  70  23  52  45  82  51  32  41  30  15  76  101  42  43  56  97  118  100\n",
      "128\n"
     ]
    }
   ],
   "source": [
    "#Generador congruencial.\n",
    "\"\"\"\n",
    "Con éste programa vamos a generar una secuencia de números\n",
    "pseudoaleatorios, la formula general es: x_n+1=(a*x_n+b)%m.\n",
    "x es la secuencia de números pseudoaleatorios. a es el multiplicador.\n",
    "b es el incremento. m es el módulo. Y x0 es la semilla inicial.\n",
    "\"\"\"\n",
    "def f(a,b,m,x0):\n",
    "    l=[]\n",
    "    s=0\n",
    "    x=x0\n",
    "    while x not in l:\n",
    "        l.append(x)\n",
    "        print(x,' ',end='')\n",
    "        x=(a*x+b)%m\n",
    "        s=s+1\n",
    "    print((a*x+b)%m)\n",
    "    return s\n",
    "print(\"Ejemplo: \")\n",
    "print(\"a=13,b=9,m=128,x0=7\")\n",
    "\"\"\"\n",
    "a=13\n",
    "b=9\n",
    "m=128\n",
    "x0=7\n",
    "\"\"\"\n",
    "print(\"Ingrese valores para el generador congruencial. \")\n",
    "a=int(input(\"a=\"))\n",
    "b=int(input(\"b=\"))\n",
    "m=int(input(\"m=\"))\n",
    "x0=int(input(\"x0=\"))\n",
    "print(f(a,b,m,x0))"
   ]
  },
  {
   "cell_type": "code",
   "execution_count": null,
   "id": "6abe34e9",
   "metadata": {},
   "outputs": [],
   "source": []
  }
 ],
 "metadata": {
  "kernelspec": {
   "display_name": "Python 3 (ipykernel)",
   "language": "python",
   "name": "python3"
  },
  "language_info": {
   "codemirror_mode": {
    "name": "ipython",
    "version": 3
   },
   "file_extension": ".py",
   "mimetype": "text/x-python",
   "name": "python",
   "nbconvert_exporter": "python",
   "pygments_lexer": "ipython3",
   "version": "3.10.4"
  }
 },
 "nbformat": 4,
 "nbformat_minor": 5
}
